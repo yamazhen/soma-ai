{
 "cells": [
  {
   "cell_type": "code",
   "execution_count": 3,
   "id": "f19e4214",
   "metadata": {},
   "outputs": [],
   "source": [
    "# import libraries\n",
    "import json\n",
    "import os\n",
    "import pandas as pd\n",
    "from datasets import Dataset"
   ]
  },
  {
   "cell_type": "code",
   "execution_count": 4,
   "id": "ee0940fe",
   "metadata": {},
   "outputs": [],
   "source": [
    "with open(\"../data/quiz_flashcard_data.json\", \"r\") as f:\n",
    "    quiz_flashcard_data = json.load(f)\n",
    "\n",
    "# convert to huggingface dataset\n",
    "dataset = Dataset.from_list(quiz_flashcard_data)\n",
    "\n",
    "# split dataset\n",
    "train_test = dataset.train_test_split(test_size=0.1, seed=42)\n",
    "train_val = train_test['train'].train_test_split(test_size=0.1, seed=42)\n",
    "\n",
    "train_dataset = train_val['train']\n",
    "val_dataset = train_val['test']\n",
    "test_dataset = train_test['test']"
   ]
  },
  {
   "cell_type": "code",
   "execution_count": 5,
   "id": "806dfe45",
   "metadata": {},
   "outputs": [
    {
     "data": {
      "application/vnd.jupyter.widget-view+json": {
       "model_id": "991af20fba734505b37c1074dbdab687",
       "version_major": 2,
       "version_minor": 0
      },
      "text/plain": [
       "Map:   0%|          | 0/32 [00:00<?, ? examples/s]"
      ]
     },
     "metadata": {},
     "output_type": "display_data"
    },
    {
     "data": {
      "application/vnd.jupyter.widget-view+json": {
       "model_id": "124de3e167a44a36ae5ed66869b76079",
       "version_major": 2,
       "version_minor": 0
      },
      "text/plain": [
       "Map:   0%|          | 0/4 [00:00<?, ? examples/s]"
      ]
     },
     "metadata": {},
     "output_type": "display_data"
    },
    {
     "data": {
      "application/vnd.jupyter.widget-view+json": {
       "model_id": "d04987e07ed942899594e7807851fe7f",
       "version_major": 2,
       "version_minor": 0
      },
      "text/plain": [
       "Map:   0%|          | 0/4 [00:00<?, ? examples/s]"
      ]
     },
     "metadata": {},
     "output_type": "display_data"
    }
   ],
   "source": [
    "# format for training\n",
    "def format_instruction(example):\n",
    "    if \"input\" in example and example[\"input\"]:\n",
    "        full_instruction = f\"{example['instruction']}\\n\\n{example['input']}\"\n",
    "    else:\n",
    "        full_instruction = example['instruction']\n",
    "    \n",
    "    return {\n",
    "        \"text\": f\"<human>: {full_instruction}\\n\\n<assistant>: {example['output']}\"\n",
    "    }\n",
    "\n",
    "train_dataset = train_dataset.map(format_instruction)\n",
    "val_dataset = val_dataset.map(format_instruction)\n",
    "test_dataset = test_dataset.map(format_instruction)"
   ]
  },
  {
   "cell_type": "code",
   "execution_count": 6,
   "id": "28a8a07d",
   "metadata": {},
   "outputs": [
    {
     "data": {
      "application/vnd.jupyter.widget-view+json": {
       "model_id": "556ba7fdabdd444fbcc39aedc94a5dce",
       "version_major": 2,
       "version_minor": 0
      },
      "text/plain": [
       "Saving the dataset (0/1 shards):   0%|          | 0/32 [00:00<?, ? examples/s]"
      ]
     },
     "metadata": {},
     "output_type": "display_data"
    },
    {
     "data": {
      "application/vnd.jupyter.widget-view+json": {
       "model_id": "3753c44d03664ffcb8e309087927be96",
       "version_major": 2,
       "version_minor": 0
      },
      "text/plain": [
       "Saving the dataset (0/1 shards):   0%|          | 0/4 [00:00<?, ? examples/s]"
      ]
     },
     "metadata": {},
     "output_type": "display_data"
    },
    {
     "data": {
      "application/vnd.jupyter.widget-view+json": {
       "model_id": "961f548fc9f24b459b8985cfb1d25a1a",
       "version_major": 2,
       "version_minor": 0
      },
      "text/plain": [
       "Saving the dataset (0/1 shards):   0%|          | 0/4 [00:00<?, ? examples/s]"
      ]
     },
     "metadata": {},
     "output_type": "display_data"
    },
    {
     "name": "stdout",
     "output_type": "stream",
     "text": [
      "Datasets saved. Train size: 32, Validation size: 4, Test size: 4\n"
     ]
    }
   ],
   "source": [
    "# save processed datasets\n",
    "train_dataset.save_to_disk('../data/train')\n",
    "val_dataset.save_to_disk('../data/validation')\n",
    "test_dataset.save_to_disk('../data/test')\n",
    "\n",
    "print(f\"Datasets saved. Train size: {len(train_dataset)}, Validation size: {len(val_dataset)}, Test size: {len(test_dataset)}\")"
   ]
  }
 ],
 "metadata": {
  "kernelspec": {
   "display_name": "soma-ai",
   "language": "python",
   "name": "python3"
  },
  "language_info": {
   "codemirror_mode": {
    "name": "ipython",
    "version": 3
   },
   "file_extension": ".py",
   "mimetype": "text/x-python",
   "name": "python",
   "nbconvert_exporter": "python",
   "pygments_lexer": "ipython3",
   "version": "3.10.16"
  }
 },
 "nbformat": 4,
 "nbformat_minor": 5
}
