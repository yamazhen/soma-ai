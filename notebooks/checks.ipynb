{
 "cells": [
  {
   "cell_type": "code",
   "execution_count": 4,
   "id": "8335de07",
   "metadata": {},
   "outputs": [
    {
     "name": "stdout",
     "output_type": "stream",
     "text": [
      "CUDA available: True\n",
      "Cuda version: 11.8\n",
      "GPU device: NVIDIA GeForce RTX 4060\n",
      "cuDNN available: Yes\n",
      "cuDNN version: 90100\n",
      "cuDNN enabled: True\n",
      "cuDNN test: Convolution operation completed successfully\n"
     ]
    }
   ],
   "source": [
    "import torch\n",
    "\n",
    "# cuda check\n",
    "print(f\"CUDA available: {torch.cuda.is_available()}\")\n",
    "print(f\"Cuda version: {torch.version.cuda}\")\n",
    "print(f\"GPU device: {torch.cuda.get_device_name(0)}\")\n",
    "\n",
    "# cudnn check\n",
    "if torch.backends.cudnn.is_available():\n",
    "    print(f\"cuDNN available: Yes\")\n",
    "    print(f\"cuDNN version: {torch.backends.cudnn.version()}\")\n",
    "    print(f\"cuDNN enabled: {torch.backends.cudnn.enabled}\")\n",
    "    \n",
    "    try:\n",
    "        conv = torch.nn.Conv2d(3, 6, 3).cuda()\n",
    "        dummy_input = torch.randn(1, 3, 24, 24, device='cuda')\n",
    "        output = conv(dummy_input)\n",
    "        print(\"cuDNN test: Convolution operation completed successfully\")\n",
    "    except Exception as e:\n",
    "        print(f\"cuDNN test failed: {e}\")\n",
    "else:\n",
    "    print(\"cuDNN is not available\")"
   ]
  }
 ],
 "metadata": {
  "kernelspec": {
   "display_name": "soma-ai",
   "language": "python",
   "name": "python3"
  },
  "language_info": {
   "codemirror_mode": {
    "name": "ipython",
    "version": 3
   },
   "file_extension": ".py",
   "mimetype": "text/x-python",
   "name": "python",
   "nbconvert_exporter": "python",
   "pygments_lexer": "ipython3",
   "version": "3.10.16"
  }
 },
 "nbformat": 4,
 "nbformat_minor": 5
}
