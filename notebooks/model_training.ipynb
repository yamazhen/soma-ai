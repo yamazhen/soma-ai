{
 "cells": [
  {
   "cell_type": "code",
   "execution_count": 1,
   "id": "f19e4214",
   "metadata": {},
   "outputs": [
    {
     "name": "stdout",
     "output_type": "stream",
     "text": [
      "Requirement already satisfied: unsloth in c:\\users\\zhen\\documents\\soma_ai\\venv\\lib\\site-packages (2025.5.2)\n",
      "Note: you may need to restart the kernel to use updated packages.\n"
     ]
    },
    {
     "name": "stderr",
     "output_type": "stream",
     "text": [
      "\n",
      "[notice] A new release of pip is available: 24.3.1 -> 25.1.1\n",
      "[notice] To update, run: python.exe -m pip install --upgrade pip\n"
     ]
    },
    {
     "name": "stdout",
     "output_type": "stream",
     "text": [
      "Collecting git+https://github.com/unslothai/unsloth.git\n",
      "  Cloning https://github.com/unslothai/unsloth.git to c:\\users\\zhen\\appdata\\local\\temp\\pip-req-build-86a52x6q\n",
      "  Resolved https://github.com/unslothai/unsloth.git to commit e596938ccf3750e153e7105f8123f94e0823d1e7\n",
      "  Installing build dependencies: started\n",
      "  Installing build dependencies: finished with status 'done'\n",
      "  Getting requirements to build wheel: started\n",
      "  Getting requirements to build wheel: finished with status 'done'\n",
      "  Preparing metadata (pyproject.toml): started\n",
      "  Preparing metadata (pyproject.toml): finished with status 'done'\n",
      "Building wheels for collected packages: unsloth\n",
      "  Building wheel for unsloth (pyproject.toml): started\n",
      "  Building wheel for unsloth (pyproject.toml): finished with status 'done'\n",
      "  Created wheel for unsloth: filename=unsloth-2025.5.2-py3-none-any.whl size=265951 sha256=3be53ab4cd658f1fcdd0ba22580a452d125296c2ab11e00ae4e1ee6c03ad0eca\n",
      "  Stored in directory: C:\\Users\\Zhen\\AppData\\Local\\Temp\\pip-ephem-wheel-cache-raqbvqyu\\wheels\\60\\3e\\1f\\e576c07051d90cf64b6a41434d87ccf4db33fafd5343bf5de0\n",
      "Successfully built unsloth\n",
      "Installing collected packages: unsloth\n",
      "  Attempting uninstall: unsloth\n",
      "    Found existing installation: unsloth 2025.5.2\n",
      "    Uninstalling unsloth-2025.5.2:\n",
      "      Successfully uninstalled unsloth-2025.5.2\n",
      "Successfully installed unsloth-2025.5.2\n",
      "Note: you may need to restart the kernel to use updated packages.\n"
     ]
    },
    {
     "name": "stderr",
     "output_type": "stream",
     "text": [
      "  Running command git clone --filter=blob:none --quiet https://github.com/unslothai/unsloth.git 'C:\\Users\\Zhen\\AppData\\Local\\Temp\\pip-req-build-86a52x6q'\n",
      "\n",
      "[notice] A new release of pip is available: 24.3.1 -> 25.1.1\n",
      "[notice] To update, run: python.exe -m pip install --upgrade pip\n"
     ]
    }
   ],
   "source": [
    "# Install required packages\n",
    "%pip install unsloth\n",
    "%pip install --force-reinstall --no-cache-dir --no-deps git+https://github.com/unslothai/unsloth.git"
   ]
  },
  {
   "cell_type": "code",
   "execution_count": 2,
   "id": "ee0940fe",
   "metadata": {},
   "outputs": [
    {
     "name": "stdout",
     "output_type": "stream",
     "text": [
      "🦥 Unsloth: Will patch your computer to enable 2x faster free finetuning.\n"
     ]
    },
    {
     "name": "stderr",
     "output_type": "stream",
     "text": [
      "c:\\Users\\Zhen\\Documents\\Soma_AI\\venv\\Lib\\site-packages\\tqdm\\auto.py:21: TqdmWarning: IProgress not found. Please update jupyter and ipywidgets. See https://ipywidgets.readthedocs.io/en/stable/user_install.html\n",
      "  from .autonotebook import tqdm as notebook_tqdm\n"
     ]
    },
    {
     "name": "stdout",
     "output_type": "stream",
     "text": [
      "🦥 Unsloth Zoo will now patch everything to make training faster!\n",
      "GPU: NVIDIA GeForce RTX 4060\n",
      "GPU Memory: 8.00 GB\n"
     ]
    }
   ],
   "source": [
    "# Import all necessary libraries\n",
    "import torch\n",
    "import gc\n",
    "from unsloth import FastLanguageModel\n",
    "from datasets import load_from_disk\n",
    "from trl import SFTTrainer\n",
    "from transformers import TrainingArguments, DataCollatorForSeq2Seq\n",
    "from unsloth.chat_templates import get_chat_template, train_on_responses_only\n",
    "import warnings\n",
    "warnings.filterwarnings(\"ignore\")\n",
    "\n",
    "# Clear GPU memory\n",
    "torch.cuda.empty_cache()\n",
    "gc.collect()\n",
    "\n",
    "# Check GPU\n",
    "print(f\"GPU: {torch.cuda.get_device_name(0)}\")\n",
    "print(f\"GPU Memory: {torch.cuda.get_device_properties(0).total_memory / 1024**3:.2f} GB\")"
   ]
  },
  {
   "cell_type": "code",
   "execution_count": 3,
   "id": "28a8a07d",
   "metadata": {},
   "outputs": [
    {
     "name": "stdout",
     "output_type": "stream",
     "text": [
      "Loaded dataset with 100 examples\n"
     ]
    }
   ],
   "source": [
    "# Load the prepared dataset\n",
    "dataset_name = \"educational_content_dataset\"\n",
    "dataset = load_from_disk(dataset_name)\n",
    "print(f\"Loaded dataset with {len(dataset)} examples\")"
   ]
  },
  {
   "cell_type": "code",
   "execution_count": 4,
   "id": "ecb30639",
   "metadata": {},
   "outputs": [],
   "source": [
    "# Stable model configuration\n",
    "# Using Llama-3.2-1B which is proven stable\n",
    "model_name = \"unsloth/Llama-3.2-1B-Instruct\"  \n",
    "max_seq_length = 1024\n",
    "dtype = torch.float16\n",
    "load_in_4bit = True"
   ]
  },
  {
   "cell_type": "code",
   "execution_count": 5,
   "id": "722e28a1",
   "metadata": {},
   "outputs": [
    {
     "name": "stdout",
     "output_type": "stream",
     "text": [
      "Loading unsloth/Llama-3.2-1B-Instruct...\n",
      "==((====))==  Unsloth 2025.5.2: Fast Llama patching. Transformers: 4.51.3.\n",
      "   \\\\   /|    NVIDIA GeForce RTX 4060. Num GPUs = 1. Max memory: 7.996 GB. Platform: Windows.\n",
      "O^O/ \\_/ \\    Torch: 2.7.0+cu128. CUDA: 8.9. CUDA Toolkit: 12.8. Triton: 3.3.0\n",
      "\\        /    Bfloat16 = TRUE. FA [Xformers = 0.0.30. FA2 = False]\n",
      " \"-____-\"     Free license: http://github.com/unslothai/unsloth\n",
      "Unsloth: Fast downloading is enabled - ignore downloading bars which are red colored!\n",
      "Model loaded successfully!\n",
      "GPU memory used: 1.04 GB\n"
     ]
    }
   ],
   "source": [
    "# Load the model\n",
    "print(f\"Loading {model_name}...\")\n",
    "\n",
    "model, tokenizer = FastLanguageModel.from_pretrained(\n",
    "    model_name=model_name,\n",
    "    max_seq_length=max_seq_length,\n",
    "    dtype=dtype,\n",
    "    load_in_4bit=load_in_4bit,\n",
    "    device_map=\"cuda:0\",\n",
    ")\n",
    "\n",
    "print(\"Model loaded successfully!\")\n",
    "print(f\"GPU memory used: {torch.cuda.memory_allocated(0)/1024**3:.2f} GB\")"
   ]
  },
  {
   "cell_type": "code",
   "execution_count": 6,
   "id": "72e79db4",
   "metadata": {},
   "outputs": [
    {
     "name": "stderr",
     "output_type": "stream",
     "text": [
      "Unsloth 2025.5.2 patched 16 layers with 16 QKV layers, 16 O layers and 16 MLP layers.\n"
     ]
    },
    {
     "name": "stdout",
     "output_type": "stream",
     "text": [
      "LoRA adapters applied successfully!\n"
     ]
    }
   ],
   "source": [
    "# Apply LoRA adapters\n",
    "model = FastLanguageModel.get_peft_model(\n",
    "    model,\n",
    "    r=16,  # Can use higher rank with smaller model\n",
    "    target_modules=[\"q_proj\", \"k_proj\", \"v_proj\", \"o_proj\", \"gate_proj\", \"up_proj\", \"down_proj\"],\n",
    "    lora_alpha=16,\n",
    "    lora_dropout=0,\n",
    "    bias=\"none\",\n",
    "    use_gradient_checkpointing=\"unsloth\",\n",
    "    random_state=3407,\n",
    "    use_rslora=False,\n",
    "    loftq_config=None,\n",
    ")\n",
    "\n",
    "print(\"LoRA adapters applied successfully!\")"
   ]
  },
  {
   "cell_type": "code",
   "execution_count": 7,
   "id": "12d215b3",
   "metadata": {},
   "outputs": [
    {
     "name": "stdout",
     "output_type": "stream",
     "text": [
      "Applying chat template to dataset...\n"
     ]
    },
    {
     "name": "stderr",
     "output_type": "stream",
     "text": [
      "Formatting prompts: 100%|██████████| 11/11 [00:00<00:00, 726.05 examples/s]"
     ]
    },
    {
     "name": "stdout",
     "output_type": "stream",
     "text": [
      "Chat template applied successfully\n"
     ]
    },
    {
     "name": "stderr",
     "output_type": "stream",
     "text": [
      "\n"
     ]
    }
   ],
   "source": [
    "# Apply chat template\n",
    "tokenizer = get_chat_template(\n",
    "    tokenizer,\n",
    "    chat_template=\"llama-3\",  # Llama-3 format for Llama models\n",
    "    map_eos_token=True,\n",
    ")\n",
    "\n",
    "# Set pad token\n",
    "tokenizer.pad_token = tokenizer.eos_token\n",
    "\n",
    "# Format the dataset\n",
    "def formatting_prompts_func(examples):\n",
    "    convos = examples[\"conversations\"]\n",
    "    texts = []\n",
    "    for convo in convos:\n",
    "        text = tokenizer.apply_chat_template(convo, tokenize=False, add_generation_prompt=False)\n",
    "        texts.append(text)\n",
    "    return {\"text\": texts}\n",
    "\n",
    "print(\"Applying chat template to dataset...\")\n",
    "dataset = dataset.map(\n",
    "    formatting_prompts_func, \n",
    "    batched=True,\n",
    "    num_proc=1,  # Single process for Windows\n",
    "    desc=\"Formatting prompts\"\n",
    ")\n",
    "\n",
    "print(\"Chat template applied successfully\")"
   ]
  },
  {
   "cell_type": "code",
   "execution_count": 8,
   "id": "039af39a",
   "metadata": {},
   "outputs": [
    {
     "name": "stdout",
     "output_type": "stream",
     "text": [
      "Dataset size: 11\n",
      "Dataset columns: ['conversations', 'text']\n",
      "First example length: 1110\n",
      "Sample text: <|begin_of_text|><|start_header_id|>system<|end_header_id|>\n",
      "\n",
      "You are an educational assistant that generates comprehensive study notes from educational content.<|eot_id|><|start_header_id|>user<|end_h...\n"
     ]
    }
   ],
   "source": [
    "# Verify the dataset\n",
    "print(f\"Dataset size: {len(dataset)}\")\n",
    "print(f\"Dataset columns: {dataset.column_names}\")\n",
    "print(f\"First example length: {len(dataset[0]['text'])}\")\n",
    "print(f\"Sample text: {dataset[0]['text'][:200]}...\")"
   ]
  },
  {
   "cell_type": "code",
   "execution_count": 9,
   "id": "c842a72d",
   "metadata": {},
   "outputs": [
    {
     "name": "stdout",
     "output_type": "stream",
     "text": [
      "Training configuration set\n"
     ]
    }
   ],
   "source": [
    "# Stable training configuration\n",
    "training_args = TrainingArguments(\n",
    "    per_device_train_batch_size=2,  # Can use 2 with 1B model\n",
    "    gradient_accumulation_steps=4,   # Effective batch size of 8\n",
    "    warmup_steps=10,\n",
    "    max_steps=200,  # More steps for better results\n",
    "    learning_rate=2e-4,\n",
    "    fp16=True,      # Use fp16\n",
    "    bf16=False,     # Don't use bf16\n",
    "    logging_steps=10,\n",
    "    optim=\"adamw_8bit\",\n",
    "    weight_decay=0.01,\n",
    "    lr_scheduler_type=\"linear\",\n",
    "    seed=3407,\n",
    "    output_dir=\"educational_model_outputs\",\n",
    "    save_strategy=\"steps\",\n",
    "    save_steps=100,\n",
    "    gradient_checkpointing=True,\n",
    "    max_grad_norm=0.5,\n",
    "    report_to=\"none\",\n",
    ")\n",
    "\n",
    "print(\"Training configuration set\")"
   ]
  },
  {
   "cell_type": "code",
   "execution_count": 10,
   "id": "eebb3c83",
   "metadata": {},
   "outputs": [
    {
     "name": "stderr",
     "output_type": "stream",
     "text": [
      "Unsloth: Tokenizing [\"text\"]: 100%|██████████| 11/11 [00:00<00:00, 884.28 examples/s]\n",
      "num_proc must be <= 11. Reducing num_proc to 11 for dataset of size 11.\n",
      "Map (num_proc=11): 100%|██████████| 11/11 [00:07<00:00,  1.51 examples/s]\n"
     ]
    },
    {
     "name": "stdout",
     "output_type": "stream",
     "text": [
      "Trainer initialized successfully\n"
     ]
    }
   ],
   "source": [
    "# Create trainer\n",
    "trainer = SFTTrainer(\n",
    "    model=model,\n",
    "    tokenizer=tokenizer,\n",
    "    train_dataset=dataset,\n",
    "    dataset_text_field=\"text\",\n",
    "    max_seq_length=max_seq_length,\n",
    "    data_collator=DataCollatorForSeq2Seq(tokenizer=tokenizer),\n",
    "    dataset_num_proc=1,  # MUST be 1 for Windows\n",
    "    packing=False,  # Don't pack sequences\n",
    "    args=training_args,\n",
    ")\n",
    "\n",
    "# Train only on assistant responses\n",
    "trainer = train_on_responses_only(\n",
    "    trainer,\n",
    "    instruction_part=\"<|begin_of_text|><|start_header_id|>user<|end_header_id|>\\n\\n\",\n",
    "    response_part=\"<|start_header_id|>assistant<|end_header_id|>\\n\\n\",\n",
    ")\n",
    "\n",
    "print(\"Trainer initialized successfully\")"
   ]
  },
  {
   "cell_type": "code",
   "execution_count": 11,
   "id": "287e457e",
   "metadata": {},
   "outputs": [
    {
     "name": "stderr",
     "output_type": "stream",
     "text": [
      "==((====))==  Unsloth - 2x faster free finetuning | Num GPUs used = 1\n",
      "   \\\\   /|    Num examples = 11 | Num Epochs = 200 | Total steps = 200\n",
      "O^O/ \\_/ \\    Batch size per device = 2 | Gradient accumulation steps = 4\n",
      "\\        /    Data Parallel GPUs = 1 | Total batch size (2 x 4 x 1) = 8\n",
      " \"-____-\"     Trainable parameters = 11,272,192/1,000,000,000 (1.13% trained)\n"
     ]
    },
    {
     "name": "stdout",
     "output_type": "stream",
     "text": [
      "Starting training...\n",
      "Training on 11 examples\n",
      "Training for 200 steps\n",
      "Unsloth: Will smartly offload gradients to save VRAM!\n"
     ]
    },
    {
     "data": {
      "text/html": [
       "\n",
       "    <div>\n",
       "      \n",
       "      <progress value='200' max='200' style='width:300px; height:20px; vertical-align: middle;'></progress>\n",
       "      [200/200 02:09, Epoch 100/200]\n",
       "    </div>\n",
       "    <table border=\"1\" class=\"dataframe\">\n",
       "  <thead>\n",
       " <tr style=\"text-align: left;\">\n",
       "      <th>Step</th>\n",
       "      <th>Training Loss</th>\n",
       "    </tr>\n",
       "  </thead>\n",
       "  <tbody>\n",
       "    <tr>\n",
       "      <td>10</td>\n",
       "      <td>1.048300</td>\n",
       "    </tr>\n",
       "    <tr>\n",
       "      <td>20</td>\n",
       "      <td>0.475500</td>\n",
       "    </tr>\n",
       "    <tr>\n",
       "      <td>30</td>\n",
       "      <td>0.071900</td>\n",
       "    </tr>\n",
       "    <tr>\n",
       "      <td>40</td>\n",
       "      <td>0.007600</td>\n",
       "    </tr>\n",
       "    <tr>\n",
       "      <td>50</td>\n",
       "      <td>0.002300</td>\n",
       "    </tr>\n",
       "    <tr>\n",
       "      <td>60</td>\n",
       "      <td>0.001300</td>\n",
       "    </tr>\n",
       "    <tr>\n",
       "      <td>70</td>\n",
       "      <td>0.000800</td>\n",
       "    </tr>\n",
       "    <tr>\n",
       "      <td>80</td>\n",
       "      <td>0.000600</td>\n",
       "    </tr>\n",
       "    <tr>\n",
       "      <td>90</td>\n",
       "      <td>0.000500</td>\n",
       "    </tr>\n",
       "    <tr>\n",
       "      <td>100</td>\n",
       "      <td>0.000400</td>\n",
       "    </tr>\n",
       "    <tr>\n",
       "      <td>110</td>\n",
       "      <td>0.000400</td>\n",
       "    </tr>\n",
       "    <tr>\n",
       "      <td>120</td>\n",
       "      <td>0.000300</td>\n",
       "    </tr>\n",
       "    <tr>\n",
       "      <td>130</td>\n",
       "      <td>0.000300</td>\n",
       "    </tr>\n",
       "    <tr>\n",
       "      <td>140</td>\n",
       "      <td>0.000300</td>\n",
       "    </tr>\n",
       "    <tr>\n",
       "      <td>150</td>\n",
       "      <td>0.000300</td>\n",
       "    </tr>\n",
       "    <tr>\n",
       "      <td>160</td>\n",
       "      <td>0.000300</td>\n",
       "    </tr>\n",
       "    <tr>\n",
       "      <td>170</td>\n",
       "      <td>0.000300</td>\n",
       "    </tr>\n",
       "    <tr>\n",
       "      <td>180</td>\n",
       "      <td>0.000300</td>\n",
       "    </tr>\n",
       "    <tr>\n",
       "      <td>190</td>\n",
       "      <td>0.000300</td>\n",
       "    </tr>\n",
       "    <tr>\n",
       "      <td>200</td>\n",
       "      <td>0.000300</td>\n",
       "    </tr>\n",
       "  </tbody>\n",
       "</table><p>"
      ],
      "text/plain": [
       "<IPython.core.display.HTML object>"
      ]
     },
     "metadata": {},
     "output_type": "display_data"
    },
    {
     "name": "stdout",
     "output_type": "stream",
     "text": [
      "\n",
      "Training completed successfully!\n",
      "Final training loss: 0.0806\n"
     ]
    }
   ],
   "source": [
    "# Train with error handling\n",
    "print(\"Starting training...\")\n",
    "print(f\"Training on {len(dataset)} examples\")\n",
    "print(f\"Training for {training_args.max_steps} steps\")\n",
    "\n",
    "try:\n",
    "    trainer_stats = trainer.train()\n",
    "    \n",
    "    print(\"\\nTraining completed successfully!\")\n",
    "    print(f\"Final training loss: {trainer_stats.training_loss:.4f}\")\n",
    "    \n",
    "except Exception as e:\n",
    "    print(f\"Error during training: {e}\")\n",
    "    raise\n",
    "    \n",
    "finally:\n",
    "    torch.cuda.empty_cache()"
   ]
  },
  {
   "cell_type": "code",
   "execution_count": 12,
   "id": "a2832ece",
   "metadata": {},
   "outputs": [
    {
     "name": "stdout",
     "output_type": "stream",
     "text": [
      "Model set to inference mode\n"
     ]
    }
   ],
   "source": [
    "# Enable inference mode\n",
    "FastLanguageModel.for_inference(model)\n",
    "print(\"Model set to inference mode\")"
   ]
  },
  {
   "cell_type": "code",
   "execution_count": 13,
   "id": "e6fc84f3",
   "metadata": {},
   "outputs": [
    {
     "name": "stderr",
     "output_type": "stream",
     "text": [
      "The attention mask is not set and cannot be inferred from input because pad token is same as eos token. As a consequence, you may observe unexpected behavior. Please pass your input's `attention_mask` to obtain reliable results.\n"
     ]
    },
    {
     "name": "stdout",
     "output_type": "stream",
     "text": [
      "\n",
      "==================================================\n",
      "Test: notes\n",
      "==================================================\n",
      "<|begin_of_text|><|start_header_id|>system<|end_header_id|>\n",
      "\n",
      "You are an educational assistant that generates comprehensive study notes from educational content.<|eot_id|><|start_header_id|>user<|end_header_id|>\n",
      "\n",
      "Create study notes from this text: 'Machine learning is a subset of artificial intelligence that enables computers to learn from data.'<|eot_id|><|start_header_id|>assistant<|end_header_id|>\n",
      "\n",
      "🤖 **Machine Learning Study Notes**\n",
      "\n",
      "**Definition**: Subset of Artificial Intelligence\n",
      "**Key Characteristics**:\n",
      "- Computers learn from data\n",
      "- Does not require human intervention\n",
      "- Uses algorithmic methods\n",
      "- Applications wide range (health, finance, transportation)\n",
      "\n",
      "**Key Technologies**:\n",
      "- Machine Learning\n",
      "- Deep Learning\n",
      "- Natural Language Processing\n",
      "- Computer Vision\n",
      "\n",
      "**Applications**:\n",
      "- Healthcare: Diagnosis, Drug Discovery\n",
      "- Finance: Fraud Detection, Trading\n",
      "- Transportation: Self-Driving Cars\n",
      "- Entertainment: Content Recommendation\n",
      "\n",
      "**Data Requirements**:\n",
      "- Large datasets\n",
      "- Labeling or tagging data\n",
      "- Ability to handle uncertainty\n",
      "\n",
      "**Key Skills**:\n",
      "- Data analysis\n",
      "- Algorithmic thinking\n",
      "- Programming (Python, etc.)\n",
      "- Statistical knowledge<|eot_id|>\n",
      "\n",
      "==================================================\n",
      "Test: quiz\n",
      "==================================================\n",
      "<|begin_of_text|><|start_header_id|>system<|end_header_id|>\n",
      "\n",
      "You are an educational assistant that creates quiz questions from educational content.<|eot_id|><|start_header_id|>user<|end_header_id|>\n",
      "\n",
      "Generate quiz questions from this text: 'The water cycle describes how water evaporates, condenses, and precipitates.'<|eot_id|><|start_header_id|>assistant<|end_header_id|>\n",
      "\n",
      "**Quiz Questions - Water Cycle**\n",
      "\n",
      "1. **Multiple Choice**: What is the first stage of the water cycle?\n",
      "   a) Precipitation\n",
      "   b) Condensation\n",
      "   c) Evaporation\n",
      "   d) Infiltration\n",
      "   *Answer: c) Evaporation*\n",
      "\n",
      "2. **True/False**: Water falls from the sky during the water cycle is called precipitation.\n",
      "   *Answer: False (precipitation is when water falls, while falling is called precipitation)*\n",
      "\n",
      "3. **Short Answer**: Give two examples each of evaporate and precipitate.\n",
      "   *Sample Answer: Evaporate - water changing into vapor, precipitate - water falling from vapor*\n",
      "\n",
      "4. **Fill in the Blank**: Water cycles describes how water _____,_____ and _____.\n",
      "   *Answers: evaporates, condenses, precipitates*\n",
      "\n",
      "5. **Essay**: Explain the difference between solar precipitation and natural precipitation.\n",
      "   *Key points: Solar precipitation occurs when sunlight heats water, while natural precipitation is natural water formation*<|eot_id|>\n",
      "\n",
      "==================================================\n",
      "Test: flashcards\n",
      "==================================================\n",
      "<|begin_of_text|><|start_header_id|>system<|end_header_id|>\n",
      "\n",
      "You are an educational assistant that creates flashcards from educational content.<|eot_id|><|start_header_id|>user<|end_header_id|>\n",
      "\n",
      "Create flashcards from this text: 'Photosynthesis converts sunlight into chemical energy in plants.'<|eot_id|><|start_header_id|>assistant<|end_header_id|>\n",
      "\n",
      "**Flashcard Set: Photosynthesis**\n",
      "\n",
      "**Card 1**\n",
      "Front: What type of energy does photosynthesis convert?\n",
      "Back: Chemical energy\n",
      "\n",
      "**Card 2**\n",
      "Front: What is the primary product of photosynthesis?\n",
      "Back: Sunlight (sunshine)\n",
      "\n",
      "**Card 3**\n",
      "Front: Where does photosynthesis happen?\n",
      "Back: Thylakoid membranes (plants)\n",
      "\n",
      "**Card 4**\n",
      "Front: What is the final product of photosynthesis?\n",
      "Back: Chemical energy (informs the production of oxygen)\n",
      "\n",
      "**Card 5**\n",
      "Front: Name two main requirements for photosynthesis\n",
      "Back: Sunlight & water (carbon dioxide)<|eot_id|>\n"
     ]
    }
   ],
   "source": [
    "# Test the fine-tuned model\n",
    "test_examples = [\n",
    "    {\n",
    "        \"type\": \"notes\",\n",
    "        \"text\": \"Machine learning is a subset of artificial intelligence that enables computers to learn from data.\"\n",
    "    },\n",
    "    {\n",
    "        \"type\": \"quiz\",\n",
    "        \"text\": \"The water cycle describes how water evaporates, condenses, and precipitates.\"\n",
    "    },\n",
    "    {\n",
    "        \"type\": \"flashcards\",\n",
    "        \"text\": \"Photosynthesis converts sunlight into chemical energy in plants.\"\n",
    "    }\n",
    "]\n",
    "\n",
    "for example in test_examples:\n",
    "    print(f\"\\n{'='*50}\")\n",
    "    print(f\"Test: {example['type']}\")\n",
    "    print('='*50)\n",
    "    \n",
    "    # Create prompt\n",
    "    if example['type'] == 'notes':\n",
    "        system_msg = \"You are an educational assistant that generates comprehensive study notes from educational content.\"\n",
    "        user_msg = f\"Create study notes from this text: '{example['text']}'\"\n",
    "    elif example['type'] == 'quiz':\n",
    "        system_msg = \"You are an educational assistant that creates quiz questions from educational content.\"\n",
    "        user_msg = f\"Generate quiz questions from this text: '{example['text']}'\"\n",
    "    else:\n",
    "        system_msg = \"You are an educational assistant that creates flashcards from educational content.\"\n",
    "        user_msg = f\"Create flashcards from this text: '{example['text']}'\"\n",
    "    \n",
    "    messages = [\n",
    "        {\"role\": \"system\", \"content\": system_msg},\n",
    "        {\"role\": \"user\", \"content\": user_msg}\n",
    "    ]\n",
    "    \n",
    "    # Generate\n",
    "    inputs = tokenizer.apply_chat_template(\n",
    "        messages,\n",
    "        tokenize=True,\n",
    "        add_generation_prompt=True,\n",
    "        return_tensors=\"pt\",\n",
    "    ).to(\"cuda\")\n",
    "    \n",
    "    outputs = model.generate(\n",
    "        input_ids=inputs,\n",
    "        max_new_tokens=256,\n",
    "        temperature=0.7,\n",
    "        do_sample=True,\n",
    "        top_p=0.9,\n",
    "        repetition_penalty=1.1,\n",
    "    )\n",
    "    \n",
    "    response = tokenizer.batch_decode(outputs)[0]\n",
    "    print(response)"
   ]
  },
  {
   "cell_type": "code",
   "execution_count": 14,
   "id": "4f87adc5",
   "metadata": {},
   "outputs": [
    {
     "name": "stdout",
     "output_type": "stream",
     "text": [
      "Saving model to llama32_educational_finetuned/...\n",
      "Model saved successfully!\n"
     ]
    }
   ],
   "source": [
    "# Save the fine-tuned model\n",
    "model_name = \"llama32_educational_finetuned\"\n",
    "print(f\"Saving model to {model_name}/...\")\n",
    "\n",
    "model.save_pretrained(model_name)\n",
    "tokenizer.save_pretrained(model_name)\n",
    "\n",
    "print(\"Model saved successfully!\")"
   ]
  },
  {
   "cell_type": "code",
   "execution_count": 17,
   "id": "33e02ece",
   "metadata": {},
   "outputs": [
    {
     "name": "stdout",
     "output_type": "stream",
     "text": [
      "Model documentation created!\n"
     ]
    }
   ],
   "source": [
    "# Create model information\n",
    "import json\n",
    "from datetime import datetime\n",
    "\n",
    "model_info = {\n",
    "    \"base_model\": \"unsloth/Llama-3.2-1B-Instruct\",\n",
    "    \"fine_tuned_date\": datetime.now().strftime(\"%Y-%m-%d\"),\n",
    "    \"training_examples\": len(dataset),\n",
    "    \"training_steps\": training_args.max_steps,\n",
    "    \"use_cases\": [\n",
    "        \"Generate study notes from text\",\n",
    "        \"Create quiz questions with answers\",\n",
    "        \"Make flashcards for memorization\"\n",
    "    ],\n",
    "    \"model_size\": \"1B parameters\",\n",
    "    \"quantization\": \"4-bit\",\n",
    "    \"framework\": \"Unsloth + Transformers\"\n",
    "}\n",
    "\n",
    "with open(f\"{model_name}/model_info.json\", \"w\") as f:\n",
    "    json.dump(model_info, f, indent=2)\n",
    "\n",
    "# Create README - Using simple string formatting\n",
    "readme_lines = [\n",
    "    \"# Educational Content Generator - Llama 3.2 1B\",\n",
    "    \"\",\n",
    "    \"Fine-tuned Llama 3.2 1B model for generating educational content.\",\n",
    "    \"\",\n",
    "    \"## Model Details\",\n",
    "    f\"- Base Model: {model_info['base_model']}\",\n",
    "    f\"- Training Date: {model_info['fine_tuned_date']}\",\n",
    "    f\"- Training Examples: {model_info['training_examples']}\",\n",
    "    f\"- Model Size: {model_info['model_size']}\",\n",
    "    f\"- Quantization: {model_info['quantization']}\",\n",
    "    \"\",\n",
    "    \"## Capabilities\",\n",
    "    \"- Generate comprehensive study notes\",\n",
    "    \"- Create quiz questions with answers\",\n",
    "    \"- Produce flashcards for memorization\",\n",
    "    \"\",\n",
    "    \"## Usage\",\n",
    "    \"```python\",\n",
    "    \"from transformers import AutoModelForCausalLM, AutoTokenizer\",\n",
    "    \"\",\n",
    "    f'model = AutoModelForCausalLM.from_pretrained(\"{model_name}\")',\n",
    "    f'tokenizer = AutoTokenizer.from_pretrained(\"{model_name}\")',\n",
    "    \"```\"\n",
    "]\n",
    "\n",
    "readme = \"\\n\".join(readme_lines)\n",
    "\n",
    "with open(f\"{model_name}/README.md\", \"w\") as f:\n",
    "    f.write(readme)\n",
    "\n",
    "print(\"Model documentation created!\")"
   ]
  },
  {
   "cell_type": "code",
   "execution_count": 18,
   "id": "7abf28fd",
   "metadata": {},
   "outputs": [
    {
     "name": "stdout",
     "output_type": "stream",
     "text": [
      "\n",
      "Training complete!\n",
      "Model saved to: llama32_educational_finetuned/\n",
      "Total GPU memory used: 1.67 GB\n"
     ]
    }
   ],
   "source": [
    "# Final cleanup\n",
    "torch.cuda.empty_cache()\n",
    "gc.collect()\n",
    "\n",
    "print(\"\\nTraining complete!\")\n",
    "print(f\"Model saved to: {model_name}/\")\n",
    "print(f\"Total GPU memory used: {torch.cuda.max_memory_allocated(0)/1024**3:.2f} GB\")"
   ]
  },
  {
   "cell_type": "code",
   "execution_count": 20,
   "id": "4b497d0a",
   "metadata": {},
   "outputs": [
    {
     "data": {
      "image/png": "[encoded data removed]",
      "text/plain": [
       "<Figure size 1200x800 with 2 Axes>"
      ]
     },
     "metadata": {},
     "output_type": "display_data"
    },
    {
     "name": "stdout",
     "output_type": "stream",
     "text": [
      "Initial Loss: 1.0483\n",
      "Final Loss: 0.0003\n",
      "Loss Reduction: 100.0%\n",
      "Average Loss: 0.0806\n"
     ]
    }
   ],
   "source": [
    "# Extract and plot training metrics\n",
    "import matplotlib.pyplot as plt\n",
    "import numpy as np\n",
    "\n",
    "# Get training history from trainer\n",
    "training_history = trainer.state.log_history\n",
    "\n",
    "# Extract metrics\n",
    "steps = []\n",
    "losses = []\n",
    "learning_rates = []\n",
    "\n",
    "for entry in training_history:\n",
    "    if 'loss' in entry:\n",
    "        steps.append(entry['step'])\n",
    "        losses.append(entry['loss'])\n",
    "        if 'learning_rate' in entry:\n",
    "            learning_rates.append(entry['learning_rate'])\n",
    "\n",
    "# Create plots\n",
    "fig, (ax1, ax2) = plt.subplots(2, 1, figsize=(12, 8))\n",
    "\n",
    "# Plot training loss\n",
    "ax1.plot(steps, losses, 'b-', linewidth=2)\n",
    "ax1.set_xlabel('Steps')\n",
    "ax1.set_ylabel('Training Loss')\n",
    "ax1.set_title('Training Loss over Steps')\n",
    "ax1.grid(True, alpha=0.3)\n",
    "\n",
    "# Plot learning rate\n",
    "if learning_rates:\n",
    "    ax2.plot(steps[:len(learning_rates)], learning_rates, 'r-', linewidth=2)\n",
    "    ax2.set_xlabel('Steps')\n",
    "    ax2.set_ylabel('Learning Rate')\n",
    "    ax2.set_title('Learning Rate Schedule')\n",
    "    ax2.grid(True, alpha=0.3)\n",
    "\n",
    "plt.tight_layout()\n",
    "plt.show()\n",
    "\n",
    "# Print summary statistics\n",
    "print(f\"Initial Loss: {losses[0]:.4f}\")\n",
    "print(f\"Final Loss: {losses[-1]:.4f}\")\n",
    "print(f\"Loss Reduction: {(losses[0] - losses[-1])/losses[0]*100:.1f}%\")\n",
    "print(f\"Average Loss: {np.mean(losses):.4f}\")"
   ]
  },
  {
   "cell_type": "code",
   "execution_count": null,
   "id": "b291cb61",
   "metadata": {},
   "outputs": [],
   "source": [
    "# More comprehensive testing with scoring\n",
    "test_cases = [\n",
    "    {\n",
    "        \"type\": \"notes\",\n",
    "        \"text\": \"Artificial intelligence is a field of computer science that aims to create intelligent machines that can perform tasks requiring human intelligence. It includes machine learning, natural language processing, and computer vision.\"\n",
    "    },\n",
    "    {\n",
    "        \"type\": \"quiz\",\n",
    "        \"text\": \"The solar system consists of the Sun and eight planets. Mercury is the closest planet to the Sun, while Neptune is the farthest. Earth is the third planet from the Sun.\"\n",
    "    },\n",
    "    {\n",
    "        \"type\": \"flashcards\",\n",
    "        \"text\": \"DNA stands for deoxyribonucleic acid. It is a molecule that contains genetic instructions for the development and function of living organisms.\"\n",
    "    }\n",
    "]\n",
    "\n",
    "results = []\n",
    "\n",
    "for i, test_case in enumerate(test_cases):\n",
    "    print(f\"\\n{'='*60}\")\n",
    "    print(f\"Test {i+1}: {test_case['type'].upper()}\")\n",
    "    print('='*60)\n",
    "    \n",
    "    # Create appropriate prompt\n",
    "    if test_case['type'] == 'notes':\n",
    "        system_msg = \"You are an educational assistant that generates comprehensive study notes from educational content.\"\n",
    "        user_msg = f\"Create study notes from this text: '{test_case['text']}'\"\n",
    "    elif test_case['type'] == 'quiz':\n",
    "        system_msg = \"You are an educational assistant that creates quiz questions from educational content.\"\n",
    "        user_msg = f\"Generate quiz questions from this text: '{test_case['text']}'\"\n",
    "    else:\n",
    "        system_msg = \"You are an educational assistant that creates flashcards from educational content.\"\n",
    "        user_msg = f\"Create flashcards from this text: '{test_case['text']}'\"\n",
    "    \n",
    "    messages = [\n",
    "        {\"role\": \"system\", \"content\": system_msg},\n",
    "        {\"role\": \"user\", \"content\": user_msg}\n",
    "    ]\n",
    "    \n",
    "    # Tokenize\n",
    "    inputs = tokenizer.apply_chat_template(\n",
    "        messages,\n",
    "        tokenize=True,\n",
    "        add_generation_prompt=True,\n",
    "        return_tensors=\"pt\",\n",
    "    ).to(\"cuda\")\n",
    "    \n",
    "    # Generate with different settings\n",
    "    outputs = model.generate(\n",
    "        input_ids=inputs,\n",
    "        max_new_tokens=300,\n",
    "        temperature=0.8,\n",
    "        do_sample=True,\n",
    "        top_p=0.9,\n",
    "        top_k=50,\n",
    "        repetition_penalty=1.15,\n",
    "        no_repeat_ngram_size=3,\n",
    "    )\n",
    "    \n",
    "    response = tokenizer.batch_decode(outputs, skip_special_tokens=True)[0]\n",
    "    print(response)\n",
    "    \n",
    "    # Store result for analysis\n",
    "    results.append({\n",
    "        \"type\": test_case['type'],\n",
    "        \"input\": test_case['text'],\n",
    "        \"output\": response\n",
    "    })"
   ]
  }
 ],
 "metadata": {
  "kernelspec": {
   "display_name": "venv",
   "language": "python",
   "name": "python3"
  },
  "language_info": {
   "codemirror_mode": {
    "name": "ipython",
    "version": 3
   },
   "file_extension": ".py",
   "mimetype": "text/x-python",
   "name": "python",
   "nbconvert_exporter": "python",
   "pygments_lexer": "ipython3",
   "version": "3.12.9"
  }
 },
 "nbformat": 4,
 "nbformat_minor": 5
}
