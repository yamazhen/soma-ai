{
 "cells": [
  {
   "cell_type": "code",
   "execution_count": 1,
   "id": "8a48a215",
   "metadata": {},
   "outputs": [
    {
     "name": "stderr",
     "output_type": "stream",
     "text": [
      "c:\\Users\\Zhen\\Documents\\Soma_AI\\venv\\Lib\\site-packages\\tqdm\\auto.py:21: TqdmWarning: IProgress not found. Please update jupyter and ipywidgets. See https://ipywidgets.readthedocs.io/en/stable/user_install.html\n",
      "  from .autonotebook import tqdm as notebook_tqdm\n"
     ]
    }
   ],
   "source": [
    "# Import necessary libraries for dataset preparation\n",
    "from datasets import Dataset\n",
    "import pandas as pd\n",
    "import json\n",
    "from datetime import datetime"
   ]
  },
  {
   "cell_type": "code",
   "execution_count": 2,
   "id": "f3696c29",
   "metadata": {},
   "outputs": [
    {
     "name": "stdout",
     "output_type": "stream",
     "text": [
      "Added 3 study notes examples\n"
     ]
    }
   ],
   "source": [
    "# Initialize training data list\n",
    "training_data = []\n",
    "\n",
    "# Study notes examples\n",
    "study_notes_examples = [\n",
    "    {\n",
    "        \"conversations\": [\n",
    "            {\"role\": \"system\", \"content\": \"You are an educational assistant that generates comprehensive study notes from educational content.\"},\n",
    "            {\"role\": \"user\", \"content\": \"Create study notes from this text: 'Photosynthesis is the process by which plants convert light energy into chemical energy. It occurs in two stages: light reactions and the Calvin cycle. During light reactions, chlorophyll absorbs light energy and converts it to ATP and NADPH.'\"},\n",
    "            {\"role\": \"assistant\", \"content\": \"📝 **Photosynthesis Study Notes**\\n\\n**Definition**: Process where plants convert light energy → chemical energy\\n\\n**Two Main Stages**:\\n1. Light Reactions\\n   - Location: Thylakoid membranes\\n   - Chlorophyll absorbs light\\n   - Produces: ATP & NADPH\\n   - Releases: O₂ as byproduct\\n\\n2. Calvin Cycle\\n   - Location: Stroma\\n   - Uses: ATP & NADPH (from light reactions)\\n   - Produces: Glucose (C₆H₁₂O₆)\\n   - Also called: Dark reactions\\n\\n**Key Requirements**:\\n- Sunlight\\n- Water (H₂O)\\n- Carbon dioxide (CO₂)\\n\\n**Products**:\\n- Glucose (primary)\\n- Oxygen (byproduct)\"}\n",
    "        ]\n",
    "    },\n",
    "    {\n",
    "        \"conversations\": [\n",
    "            {\"role\": \"system\", \"content\": \"You are an educational assistant that generates comprehensive study notes from educational content.\"},\n",
    "            {\"role\": \"user\", \"content\": \"Create study notes from this text: 'The water cycle describes how water evaporates from the surface of the earth, rises into the atmosphere, cools and condenses into rain or snow in clouds, and falls again to the surface as precipitation. The cycle is powered by the sun's energy.'\"},\n",
    "            {\"role\": \"assistant\", \"content\": \"💧 **Water Cycle Study Notes**\\n\\n**Definition**: Continuous movement of water on, above, and below Earth's surface\\n\\n**Main Stages**:\\n1. **Evaporation**\\n   - Water changes from liquid → vapor\\n   - Occurs from oceans, lakes, rivers\\n   - Powered by sun's heat\\n\\n2. **Condensation**\\n   - Water vapor cools → liquid droplets\\n   - Forms clouds in atmosphere\\n   - Occurs at cooler temperatures\\n\\n3. **Precipitation**\\n   - Water falls from clouds\\n   - Forms: rain, snow, hail, sleet\\n   - Returns water to Earth's surface\\n\\n4. **Collection**\\n   - Water gathers in bodies of water\\n   - Infiltrates soil (groundwater)\\n   - Runs off into streams/rivers\\n\\n**Energy Source**: Solar energy drives the entire cycle\\n\\n**Importance**:\\n- Distributes fresh water globally\\n- Regulates Earth's temperature\\n- Essential for all life\"}\n",
    "        ]\n",
    "    },\n",
    "    {\n",
    "        \"conversations\": [\n",
    "            {\"role\": \"system\", \"content\": \"You are an educational assistant that generates comprehensive study notes from educational content.\"},\n",
    "            {\"role\": \"user\", \"content\": \"Create study notes from this text: 'Artificial intelligence refers to computer systems that can perform tasks typically requiring human intelligence. These include visual perception, speech recognition, decision-making, and language translation. AI can be categorized into narrow AI, which performs specific tasks, and general AI, which would match human cognitive abilities.'\"},\n",
    "            {\"role\": \"assistant\", \"content\": \"🤖 **Artificial Intelligence Study Notes**\\n\\n**Definition**: Computer systems performing tasks that typically require human intelligence\\n\\n**Key Capabilities**:\\n- Visual perception\\n- Speech recognition\\n- Decision-making\\n- Language translation\\n\\n**Categories of AI**:\\n1. **Narrow AI (Weak AI)**\\n   - Designed for specific tasks\\n   - Examples: Siri, chess programs, recommendation systems\\n   - Currently available technology\\n\\n2. **General AI (Strong AI)**\\n   - Would match human cognitive abilities\\n   - Can understand, learn, apply knowledge across domains\\n   - Still theoretical/in development\\n\\n**Applications**:\\n- Healthcare: Diagnosis, drug discovery\\n- Transportation: Self-driving cars\\n- Finance: Fraud detection, trading\\n- Entertainment: Content recommendation\\n\\n**Key Technologies**:\\n- Machine Learning\\n- Deep Learning\\n- Natural Language Processing\\n- Computer Vision\"}\n",
    "        ]\n",
    "    }\n",
    "]\n",
    "\n",
    "training_data.extend(study_notes_examples)\n",
    "print(f\"Added {len(study_notes_examples)} study notes examples\")"
   ]
  },
  {
   "cell_type": "code",
   "execution_count": 3,
   "id": "5c6a1ba8",
   "metadata": {},
   "outputs": [
    {
     "name": "stdout",
     "output_type": "stream",
     "text": [
      "Added 3 quiz examples\n"
     ]
    }
   ],
   "source": [
    "# Quiz question examples\n",
    "quiz_examples = [\n",
    "    {\n",
    "        \"conversations\": [\n",
    "            {\"role\": \"system\", \"content\": \"You are an educational assistant that creates quiz questions from educational content.\"},\n",
    "            {\"role\": \"user\", \"content\": \"Generate quiz questions from this text: 'DNA stands for deoxyribonucleic acid. It is a molecule that contains the genetic instructions for life. DNA is made up of nucleotides, which consist of a sugar, phosphate, and one of four bases: adenine, thymine, guanine, and cytosine.'\"},\n",
    "            {\"role\": \"assistant\", \"content\": \"**Quiz Questions - DNA**\\n\\n1. **Multiple Choice**: What does DNA stand for?\\n   a) Deoxyribose nucleic acid\\n   b) Deoxyribonucleic acid\\n   c) Dinucleic acid\\n   d) Double nucleic acid\\n   *Answer: b) Deoxyribonucleic acid*\\n\\n2. **Fill in the Blank**: DNA contains the genetic _______ for life.\\n   *Answer: instructions*\\n\\n3. **Short Answer**: List the three components of a nucleotide.\\n   *Answer: Sugar, phosphate, and a nitrogenous base*\\n\\n4. **True/False**: DNA contains five different types of bases.\\n   *Answer: False (it contains four: adenine, thymine, guanine, and cytosine)*\\n\\n5. **Matching**: Match the base pairs\\n   - Adenine pairs with ___\\n   - Guanine pairs with ___\\n   *Answers: Adenine-Thymine, Guanine-Cytosine*\"}\n",
    "        ]\n",
    "    },\n",
    "    {\n",
    "        \"conversations\": [\n",
    "            {\"role\": \"system\", \"content\": \"You are an educational assistant that creates quiz questions from educational content.\"},\n",
    "            {\"role\": \"user\", \"content\": \"Generate quiz questions from this text: 'The solar system consists of the Sun and everything that orbits around it, including eight planets, their moons, asteroids, and comets. The planets are divided into two groups: terrestrial planets (Mercury, Venus, Earth, Mars) and gas giants (Jupiter, Saturn, Uranus, Neptune).'\"},\n",
    "            {\"role\": \"assistant\", \"content\": \"**Quiz Questions - Solar System**\\n\\n1. **Multiple Choice**: How many planets are in our solar system?\\n   a) 7\\n   b) 8\\n   c) 9\\n   d) 10\\n   *Answer: b) 8*\\n\\n2. **Classification**: List the terrestrial planets in order from the Sun.\\n   *Answer: Mercury, Venus, Earth, Mars*\\n\\n3. **True/False**: Jupiter is classified as a terrestrial planet.\\n   *Answer: False (Jupiter is a gas giant)*\\n\\n4. **Fill in the Blanks**: The solar system consists of the ___ and everything that ___ around it.\\n   *Answers: Sun, orbits*\\n\\n5. **Essay Question**: Compare and contrast terrestrial planets with gas giants. Give at least two differences.\\n   *Sample Answer: Terrestrial planets are rocky and smaller, while gas giants are made mostly of gases and are much larger. Terrestrial planets are closer to the Sun, while gas giants are in the outer solar system.*\"}\n",
    "        ]\n",
    "    },\n",
    "    {\n",
    "        \"conversations\": [\n",
    "            {\"role\": \"system\", \"content\": \"You are an educational assistant that creates quiz questions from educational content.\"},\n",
    "            {\"role\": \"user\", \"content\": \"Generate quiz questions from this text: 'The human respiratory system is responsible for gas exchange. It includes the nose, pharynx, larynx, trachea, bronchi, and lungs. Oxygen enters the bloodstream through tiny air sacs called alveoli, while carbon dioxide is expelled.'\"},\n",
    "            {\"role\": \"assistant\", \"content\": \"**Quiz Questions - Respiratory System**\\n\\n1. **Multiple Choice**: What is the primary function of the respiratory system?\\n   a) Digestion\\n   b) Gas exchange\\n   c) Blood circulation\\n   d) Temperature regulation\\n   *Answer: b) Gas exchange*\\n\\n2. **Sequence**: Arrange these respiratory structures in order from top to bottom:\\n   - Bronchi\\n   - Trachea\\n   - Pharynx\\n   - Larynx\\n   *Answer: Pharynx → Larynx → Trachea → Bronchi*\\n\\n3. **Fill in the Blank**: Oxygen enters the bloodstream through tiny air sacs called _______.\\n   *Answer: alveoli*\\n\\n4. **Short Answer**: What gas is expelled from the body during respiration?\\n   *Answer: Carbon dioxide (CO₂)*\\n\\n5. **Diagram Label**: [Imagine a diagram] Label the main parts of the respiratory system.\\n   *Key parts: Nose, Pharynx, Larynx, Trachea, Bronchi, Lungs*\"}\n",
    "        ]\n",
    "    }\n",
    "]\n",
    "\n",
    "training_data.extend(quiz_examples)\n",
    "print(f\"Added {len(quiz_examples)} quiz examples\")"
   ]
  },
  {
   "cell_type": "code",
   "execution_count": 4,
   "id": "4c6b39bc",
   "metadata": {},
   "outputs": [
    {
     "name": "stdout",
     "output_type": "stream",
     "text": [
      "Added 3 flashcard examples\n"
     ]
    }
   ],
   "source": [
    "# Flashcard examples\n",
    "flashcard_examples = [\n",
    "    {\n",
    "        \"conversations\": [\n",
    "            {\"role\": \"system\", \"content\": \"You are an educational assistant that creates flashcards from educational content.\"},\n",
    "            {\"role\": \"user\", \"content\": \"Create flashcards from this text: 'The human heart has four chambers: two atria and two ventricles. The right side pumps blood to the lungs, while the left side pumps blood to the rest of the body. The heart beats about 100,000 times per day.'\"},\n",
    "            {\"role\": \"assistant\", \"content\": \"**Flashcard Set: Human Heart**\\n\\n**Card 1**\\nFront: How many chambers does the human heart have?\\nBack: Four chambers (2 atria, 2 ventricles)\\n\\n**Card 2**\\nFront: What are the upper chambers of the heart called?\\nBack: Atria (singular: atrium)\\n\\n**Card 3**\\nFront: What are the lower chambers of the heart called?\\nBack: Ventricles\\n\\n**Card 4**\\nFront: Where does the right side of the heart pump blood?\\nBack: To the lungs (pulmonary circulation)\\n\\n**Card 5**\\nFront: Where does the left side of the heart pump blood?\\nBack: To the rest of the body (systemic circulation)\\n\\n**Card 6**\\nFront: How many times does the heart beat per day?\\nBack: Approximately 100,000 times\"}\n",
    "        ]\n",
    "    },\n",
    "    {\n",
    "        \"conversations\": [\n",
    "            {\"role\": \"system\", \"content\": \"You are an educational assistant that creates flashcards from educational content.\"},\n",
    "            {\"role\": \"user\", \"content\": \"Create flashcards from this text: 'Python is a high-level programming language known for its simplicity and readability. It uses indentation to define code blocks and supports multiple programming paradigms including object-oriented and functional programming.'\"},\n",
    "            {\"role\": \"assistant\", \"content\": \"**Flashcard Set: Python Programming**\\n\\n**Card 1**\\nFront: What type of programming language is Python?\\nBack: High-level programming language\\n\\n**Card 2**\\nFront: What is Python known for?\\nBack: Simplicity and readability\\n\\n**Card 3**\\nFront: How does Python define code blocks?\\nBack: Using indentation\\n\\n**Card 4**\\nFront: Name two programming paradigms Python supports\\nBack: Object-oriented and functional programming\\n\\n**Card 5**\\nFront: What makes Python code easy to read?\\nBack: Clean syntax and use of indentation instead of brackets\"}\n",
    "        ]\n",
    "    },\n",
    "    {\n",
    "        \"conversations\": [\n",
    "            {\"role\": \"system\", \"content\": \"You are an educational assistant that creates flashcards from educational content.\"},\n",
    "            {\"role\": \"user\", \"content\": \"Create flashcards from this text: 'The periodic table organizes chemical elements by atomic number. Elements in the same column (group) have similar properties. The rows are called periods and represent the number of electron shells.'\"},\n",
    "            {\"role\": \"assistant\", \"content\": \"**Flashcard Set: Periodic Table**\\n\\n**Card 1**\\nFront: How are elements organized in the periodic table?\\nBack: By atomic number (number of protons)\\n\\n**Card 2**\\nFront: What do elements in the same column have in common?\\nBack: Similar chemical properties\\n\\n**Card 3**\\nFront: What are the columns in the periodic table called?\\nBack: Groups (or families)\\n\\n**Card 4**\\nFront: What are the rows in the periodic table called?\\nBack: Periods\\n\\n**Card 5**\\nFront: What do periods represent?\\nBack: The number of electron shells in an atom\"}\n",
    "        ]\n",
    "    }\n",
    "]\n",
    "\n",
    "training_data.extend(flashcard_examples)\n",
    "print(f\"Added {len(flashcard_examples)} flashcard examples\")"
   ]
  },
  {
   "cell_type": "code",
   "execution_count": 5,
   "id": "46d0517c",
   "metadata": {},
   "outputs": [
    {
     "name": "stdout",
     "output_type": "stream",
     "text": [
      "Added 2 mixed examples\n",
      "Total training examples: 11\n"
     ]
    }
   ],
   "source": [
    "# Add more diverse examples\n",
    "mixed_examples = [\n",
    "    {\n",
    "        \"conversations\": [\n",
    "            {\"role\": \"system\", \"content\": \"You are an educational assistant that generates comprehensive study notes from educational content.\"},\n",
    "            {\"role\": \"user\", \"content\": \"Create study notes from this text: 'The French Revolution began in 1789 and lasted until 1799. It was triggered by financial crisis, social inequality, and Enlightenment ideas. Key events include the storming of the Bastille, the Declaration of the Rights of Man, and the Reign of Terror.'\"},\n",
    "            {\"role\": \"assistant\", \"content\": \"📜 **French Revolution Study Notes**\\n\\n**Time Period**: 1789-1799 (10 years)\\n\\n**Main Causes**:\\n1. Financial crisis (national debt)\\n2. Social inequality (Three Estates system)\\n3. Enlightenment ideas (liberty, equality)\\n\\n**Key Events Timeline**:\\n- 1789: Storming of the Bastille (July 14)\\n- 1789: Declaration of the Rights of Man\\n- 1793-1794: Reign of Terror\\n- 1799: Napoleon's rise to power\\n\\n**Important Figures**:\\n- King Louis XVI\\n- Marie Antoinette\\n- Robespierre\\n- Napoleon Bonaparte\\n\\n**Outcomes**:\\n- End of absolute monarchy\\n- Rise of democracy ideals\\n- Spread of nationalism\\n- Napoleon's empire\"}\n",
    "        ]\n",
    "    },\n",
    "    {\n",
    "        \"conversations\": [\n",
    "            {\"role\": \"system\", \"content\": \"You are an educational assistant that creates quiz questions from educational content.\"},\n",
    "            {\"role\": \"user\", \"content\": \"Generate quiz questions from this text: 'Ecosystems consist of living organisms (biotic factors) and non-living components (abiotic factors) that interact. Energy flows through ecosystems via food chains and food webs, while nutrients cycle through biogeochemical processes.'\"},\n",
    "            {\"role\": \"assistant\", \"content\": \"**Quiz Questions - Ecosystems**\\n\\n1. **Multiple Choice**: What are the living components of an ecosystem called?\\n   a) Abiotic factors\\n   b) Biotic factors\\n   c) Chemical factors\\n   d) Physical factors\\n   *Answer: b) Biotic factors*\\n\\n2. **True/False**: Energy cycles through ecosystems while nutrients flow in one direction.\\n   *Answer: False (Energy flows, nutrients cycle)*\\n\\n3. **Short Answer**: Give two examples each of biotic and abiotic factors.\\n   *Sample Answer: Biotic - plants, animals; Abiotic - water, temperature*\\n\\n4. **Fill in the Blank**: Energy flows through ecosystems via food _____ and food _____.\\n   *Answers: chains, webs*\\n\\n5. **Essay**: Explain the difference between energy flow and nutrient cycling in ecosystems.\\n   *Key points: Energy flows one-way (sun → producers → consumers), nutrients recycle through biogeochemical cycles*\"}\n",
    "        ]\n",
    "    }\n",
    "]\n",
    "\n",
    "training_data.extend(mixed_examples)\n",
    "print(f\"Added {len(mixed_examples)} mixed examples\")\n",
    "print(f\"Total training examples: {len(training_data)}\")"
   ]
  },
  {
   "cell_type": "code",
   "execution_count": 6,
   "id": "56e4756a",
   "metadata": {},
   "outputs": [
    {
     "name": "stdout",
     "output_type": "stream",
     "text": [
      "Dataset Statistics:\n",
      "Total examples: 11\n",
      "notes: 4 examples (36.4%)\n",
      "quiz: 4 examples (36.4%)\n",
      "flashcards: 3 examples (27.3%)\n"
     ]
    }
   ],
   "source": [
    "# Show dataset statistics\n",
    "content_types = {\n",
    "    \"notes\": 0,\n",
    "    \"quiz\": 0,\n",
    "    \"flashcards\": 0\n",
    "}\n",
    "\n",
    "for item in training_data:\n",
    "    user_content = item[\"conversations\"][1][\"content\"].lower()\n",
    "    if \"notes\" in user_content:\n",
    "        content_types[\"notes\"] += 1\n",
    "    elif \"quiz\" in user_content:\n",
    "        content_types[\"quiz\"] += 1\n",
    "    elif \"flashcard\" in user_content:\n",
    "        content_types[\"flashcards\"] += 1\n",
    "\n",
    "print(\"Dataset Statistics:\")\n",
    "print(f\"Total examples: {len(training_data)}\")\n",
    "for content_type, count in content_types.items():\n",
    "    print(f\"{content_type}: {count} examples ({count/len(training_data)*100:.1f}%)\")"
   ]
  },
  {
   "cell_type": "code",
   "execution_count": 7,
   "id": "545c1b1b",
   "metadata": {},
   "outputs": [
    {
     "name": "stdout",
     "output_type": "stream",
     "text": [
      "Created dataset with 11 examples\n"
     ]
    }
   ],
   "source": [
    "# Convert to Hugging Face dataset\n",
    "dataset = Dataset.from_pandas(pd.DataFrame(training_data))\n",
    "print(f\"Created dataset with {len(dataset)} examples\")"
   ]
  },
  {
   "cell_type": "code",
   "execution_count": 8,
   "id": "d50297c6",
   "metadata": {},
   "outputs": [
    {
     "name": "stderr",
     "output_type": "stream",
     "text": [
      "Saving the dataset (1/1 shards): 100%|██████████| 11/11 [00:00<00:00, 1825.41 examples/s]"
     ]
    },
    {
     "name": "stdout",
     "output_type": "stream",
     "text": [
      "Dataset saved to educational_content_dataset/\n",
      "Dataset also saved as educational_content_dataset.json\n"
     ]
    },
    {
     "name": "stderr",
     "output_type": "stream",
     "text": [
      "\n"
     ]
    }
   ],
   "source": [
    "# Save dataset to disk\n",
    "dataset_name = \"educational_content_dataset\"\n",
    "dataset.save_to_disk(dataset_name)\n",
    "print(f\"Dataset saved to {dataset_name}/\")\n",
    "\n",
    "# Also save as JSON for easy inspection\n",
    "with open(f\"{dataset_name}.json\", \"w\") as f:\n",
    "    json.dump(training_data, f, indent=2)\n",
    "print(f\"Dataset also saved as {dataset_name}.json\")"
   ]
  }
 ],
 "metadata": {
  "kernelspec": {
   "display_name": "venv",
   "language": "python",
   "name": "python3"
  },
  "language_info": {
   "codemirror_mode": {
    "name": "ipython",
    "version": 3
   },
   "file_extension": ".py",
   "mimetype": "text/x-python",
   "name": "python",
   "nbconvert_exporter": "python",
   "pygments_lexer": "ipython3",
   "version": "3.12.9"
  }
 },
 "nbformat": 4,
 "nbformat_minor": 5
}
